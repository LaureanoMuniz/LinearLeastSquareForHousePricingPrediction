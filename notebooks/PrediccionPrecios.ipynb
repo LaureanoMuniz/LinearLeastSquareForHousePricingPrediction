{
 "cells": [
  {
   "cell_type": "code",
   "execution_count": 1,
   "metadata": {},
   "outputs": [
    {
     "name": "stdout",
     "output_type": "stream",
     "text": [
      "mkdir: no se puede crear el directorio «build»: El archivo ya existe\n",
      "-- The C compiler identification is GNU 9.3.0\n",
      "-- The CXX compiler identification is GNU 9.3.0\n",
      "-- Check for working C compiler: /usr/bin/cc\n",
      "-- Check for working C compiler: /usr/bin/cc -- works\n",
      "-- Detecting C compiler ABI info\n",
      "-- Detecting C compiler ABI info - done\n",
      "-- Detecting C compile features\n",
      "-- Detecting C compile features - done\n",
      "-- Check for working CXX compiler: /usr/bin/c++\n",
      "-- Check for working CXX compiler: /usr/bin/c++ -- works\n",
      "-- Detecting CXX compiler ABI info\n",
      "-- Detecting CXX compiler ABI info - done\n",
      "-- Detecting CXX compile features\n",
      "-- Detecting CXX compile features - done\n",
      "Release mode\n",
      "-- Found PythonInterp: /home/laureano/Documentos/met2021/metnum-1c2021-tp3/tp3/bin/python (found version \"3.8.5\") \n",
      "-- Found PythonLibs: /usr/lib/x86_64-linux-gnu/libpython3.8.so\n",
      "-- pybind11 v2.2.4\n",
      "-- Performing Test HAS_FLTO\n",
      "-- Performing Test HAS_FLTO - Success\n",
      "-- LTO enabled\n",
      "CMAKE_INSTALL_PREFIX=/home/laureano/Documentos/met2021/metnum-1c2021-tp3\n",
      "-- Configuring done\n",
      "-- Generating done\n",
      "-- Build files have been written to: /home/laureano/Documentos/met2021/metnum-1c2021-tp3/build\n",
      "\u001b[35m\u001b[1mScanning dependencies of target metnum\u001b[0m\n",
      "[ 33%] \u001b[32mBuilding CXX object CMakeFiles/metnum.dir/src/metnum.cpp.o\u001b[0m\n",
      "[ 66%] \u001b[32mBuilding CXX object CMakeFiles/metnum.dir/src/linear_regression.cpp.o\u001b[0m\n",
      "[100%] \u001b[32m\u001b[1mLinking CXX shared module metnum.cpython-38-x86_64-linux-gnu.so\u001b[0m\n",
      "[100%] Built target metnum\n",
      "\u001b[36mInstall the project...\u001b[0m\n",
      "-- Install configuration: \"Release\"\n",
      "-- Installing: /home/laureano/Documentos/met2021/metnum-1c2021-tp3/notebooks/metnum.cpython-38-x86_64-linux-gnu.so\n"
     ]
    }
   ],
   "source": [
    "!cd .. && mkdir build\n",
    "!cd ../build/ && rm -rf *\n",
    "!cd ../build && cmake \\\n",
    "  -DPYTHON_EXECUTABLE=\"$(which python)\" \\\n",
    "  -DCMAKE_BUILD_TYPE=Release ..\n",
    "!cd ../build && make install"
   ]
  },
  {
   "cell_type": "code",
   "execution_count": 2,
   "metadata": {},
   "outputs": [],
   "source": [
    "import pandas as pd\n",
    "import numpy as np\n",
    "\n",
    "import seaborn as sns\n",
    "import matplotlib.pyplot as plt"
   ]
  },
  {
   "cell_type": "code",
   "execution_count": 3,
   "metadata": {},
   "outputs": [
    {
     "name": "stdout",
     "output_type": "stream",
     "text": [
      "/home/laureano/Documentos/met2021/metnum-1c2021-tp3/notebooks\n",
      "Python 3.8.5\n"
     ]
    }
   ],
   "source": [
    "# Verifico la correcta instalación. Si no falla el import está OK\n",
    "!pwd\n",
    "!python --version\n",
    "import metnum\n"
   ]
  },
  {
   "cell_type": "code",
   "execution_count": 104,
   "metadata": {},
   "outputs": [],
   "source": [
    "df = pd.read_csv('../data/train.csv')"
   ]
  },
  {
   "cell_type": "code",
   "execution_count": 58,
   "metadata": {},
   "outputs": [
    {
     "name": "stdout",
     "output_type": "stream",
     "text": [
      "<class 'pandas.core.frame.DataFrame'>\n",
      "RangeIndex: 240000 entries, 0 to 239999\n",
      "Data columns (total 23 columns):\n",
      " #   Column                      Non-Null Count   Dtype  \n",
      "---  ------                      --------------   -----  \n",
      " 0   id                          240000 non-null  int64  \n",
      " 1   titulo                      234613 non-null  object \n",
      " 2   descripcion                 238381 non-null  object \n",
      " 3   tipodepropiedad             239954 non-null  object \n",
      " 4   direccion                   186928 non-null  object \n",
      " 5   ciudad                      239628 non-null  object \n",
      " 6   provincia                   239845 non-null  object \n",
      " 7   antiguedad                  196445 non-null  float64\n",
      " 8   habitaciones                217529 non-null  float64\n",
      " 9   garages                     202235 non-null  float64\n",
      " 10  banos                       213779 non-null  float64\n",
      " 11  metroscubiertos             222600 non-null  float64\n",
      " 12  metrostotales               188533 non-null  float64\n",
      " 13  idzona                      211379 non-null  float64\n",
      " 14  lat                         116512 non-null  float64\n",
      " 15  lng                         116512 non-null  float64\n",
      " 16  fecha                       240000 non-null  object \n",
      " 17  gimnasio                    240000 non-null  float64\n",
      " 18  usosmultiples               240000 non-null  float64\n",
      " 19  piscina                     240000 non-null  float64\n",
      " 20  escuelascercanas            240000 non-null  float64\n",
      " 21  centroscomercialescercanos  240000 non-null  float64\n",
      " 22  precio                      240000 non-null  float64\n",
      "dtypes: float64(15), int64(1), object(7)\n",
      "memory usage: 42.1+ MB\n"
     ]
    }
   ],
   "source": [
    "df.info()"
   ]
  },
  {
   "cell_type": "code",
   "execution_count": 106,
   "metadata": {},
   "outputs": [
    {
     "data": {
      "text/plain": [
       "121.036"
      ]
     },
     "execution_count": 106,
     "metadata": {},
     "output_type": "execute_result"
    }
   ],
   "source": [
    "df['lng'].max()"
   ]
  },
  {
   "cell_type": "code",
   "execution_count": 93,
   "metadata": {},
   "outputs": [
    {
     "name": "stdout",
     "output_type": "stream",
     "text": [
      "1.0\n"
     ]
    }
   ],
   "source": [
    "df.info\n",
    "escuelascercanasmax = df['escuelascercanas'].max()\n",
    "print(escuelascercanasmax)"
   ]
  },
  {
   "cell_type": "code",
   "execution_count": 113,
   "metadata": {},
   "outputs": [
    {
     "name": "stdout",
     "output_type": "stream",
     "text": [
      "<class 'pandas.core.frame.DataFrame'>\n",
      "Int64Index: 116512 entries, 1 to 239998\n",
      "Data columns (total 23 columns):\n",
      " #   Column                      Non-Null Count   Dtype  \n",
      "---  ------                      --------------   -----  \n",
      " 0   id                          116512 non-null  int64  \n",
      " 1   titulo                      115429 non-null  object \n",
      " 2   descripcion                 115870 non-null  object \n",
      " 3   tipodepropiedad             116497 non-null  object \n",
      " 4   direccion                   91738 non-null   object \n",
      " 5   ciudad                      116346 non-null  object \n",
      " 6   provincia                   116475 non-null  object \n",
      " 7   antiguedad                  96656 non-null   float64\n",
      " 8   habitaciones                105313 non-null  float64\n",
      " 9   garages                     97989 non-null   float64\n",
      " 10  banos                       104144 non-null  float64\n",
      " 11  metroscubiertos             107824 non-null  float64\n",
      " 12  metrostotales               91509 non-null   float64\n",
      " 13  idzona                      105067 non-null  float64\n",
      " 14  lat                         116512 non-null  float64\n",
      " 15  lng                         116512 non-null  float64\n",
      " 16  fecha                       116512 non-null  object \n",
      " 17  gimnasio                    116512 non-null  float64\n",
      " 18  usosmultiples               116512 non-null  float64\n",
      " 19  piscina                     116512 non-null  float64\n",
      " 20  escuelascercanas            116512 non-null  float64\n",
      " 21  centroscomercialescercanos  116512 non-null  float64\n",
      " 22  precio                      116512 non-null  float64\n",
      "dtypes: float64(15), int64(1), object(7)\n",
      "memory usage: 21.3+ MB\n",
      "<class 'list'>\n",
      "['Zapopan', 'Benito Juárez', 'Querétaro', 'Cuauhtémoc', 'Alvaro Obregón', 'Tlalpan', 'San Luis Potosí', 'Miguel Hidalgo', 'Coyoacán', 'Naucalpan de Juárez']\n"
     ]
    }
   ],
   "source": [
    "#df.groupby(['ciudad']).count().sort\n",
    "conlatitud = df[df['lat'].notnull()]\n",
    "conlatitud.info()\n",
    "ciudades = conlatitud['ciudad'].value_counts()[:10].index.tolist()\n",
    "print(type(ciudades))\n",
    "print(ciudades)\n"
   ]
  },
  {
   "cell_type": "code",
   "execution_count": 114,
   "metadata": {},
   "outputs": [],
   "source": [
    "from math import cos, asin, sqrt, pi, radians\n",
    "\n",
    "def distance(lat1, lon1, lat2, lon2):\n",
    "    p = pi/180\n",
    "    a = 0.5 - cos((lat2-lat1)*p)/2 + cos(lat1*p) * cos(lat2*p) * (1-cos((lon2-lon1)*p))/2\n",
    "    \n",
    "    if a < 0:\n",
    "        a = 0\n",
    "    if sqrt(a)>1 or sqrt(a)<0:\n",
    "        print(a)\n",
    "        \n",
    "    a = min(1,sqrt(a))\n",
    "    a = max(0,a)\n",
    "    return 12742 * asin(a) #2Rasin..."
   ]
  },
  {
   "cell_type": "code",
   "execution_count": 117,
   "metadata": {},
   "outputs": [
    {
     "name": "stdout",
     "output_type": "stream",
     "text": [
      "Zapopan\n",
      "32.4917809\n",
      "32.4917809\n",
      "965 633\n",
      "17.0504421 -96.7434027 32.4917809 -116.9549473\n",
      "Benito Juárez\n",
      "29.1118757\n",
      "29.1118757\n",
      "1304 180\n",
      "19.2711421 -98.28775949999999 29.1118757 -110.9689894\n",
      "Querétaro\n",
      "43.4915962\n",
      "43.4915962\n",
      "1078 947\n",
      "17.546319966667 -99.487726566667 43.4915962 11.3906284\n",
      "Cuauhtémoc\n",
      "31.704174666666997\n",
      "31.704174666666997\n",
      "1285 29\n",
      "19.26701410046952 -99.17167552750857 31.704174666666997 -106.47529306667\n",
      "Alvaro Obregón\n",
      "20.6722729\n",
      "20.6722729\n",
      "1395 879\n",
      "20.6722729 -101.34437130000003 19.000813333333 -98.998068333333\n",
      "Tlalpan\n",
      "20.911941\n",
      "20.911941\n",
      "1043 1035\n",
      "20.911941 -100.7323466 19.1360866 -99.1739857\n",
      "San Luis Potosí\n",
      "43.3889678\n",
      "43.3889678\n",
      "659 185\n",
      "43.3889678 -4.10918 21.8918376 -101.44772899999998\n",
      "Miguel Hidalgo\n",
      "19.590187513705853\n",
      "19.590187513705853\n",
      "963 831\n",
      "16.589999900000002 -93.02693999999997 19.590187513705853 -100.01561781224363\n",
      "Coyoacán\n",
      "24.746285486182977\n",
      "24.746285486182977\n",
      "429 271\n",
      "19.67140628595914 -98.09754363967285 24.746285486182977 -106.93489551250002\n",
      "Naucalpan de Juárez\n",
      "28.6233332\n",
      "28.6233332\n",
      "300 127\n",
      "28.6233332 -111.63027779999999 18.964803 -98.2352952\n",
      "[2657.644789930661, 1686.4552693062628, 10256.256568291523, 1564.0626802449613, 307.8400570168532, 255.92130778391308, 8919.173697517961, 810.3886275439676, 1070.0764570651213, 1732.7540552304183]\n",
      "[255.92130778391308, 307.8400570168532, 810.3886275439676, 1070.0764570651213, 1564.0626802449613, 1686.4552693062628, 1732.7540552304183, 2657.644789930661, 8919.173697517961, 10256.256568291523]\n"
     ]
    }
   ],
   "source": [
    "\n",
    "maximas_distancias_por_ciudad = []\n",
    "latitudes = []\n",
    "for ciudad in ciudades:\n",
    "    print(ciudad)\n",
    "    tmp = conlatitud[conlatitud['ciudad'] == ciudad].dropna()\n",
    "    tmp = tmp[tmp['lat'] != 0.0] # Saco los que no sirven\n",
    "    print(tmp['lat'].max())\n",
    "    latitudes_tmp = tmp['lat'].tolist()\n",
    "    print(max(latitudes_tmp))\n",
    "    if latitudes == latitudes_tmp:\n",
    "        print(\"Son iguales\")\n",
    "    latitudes = latitudes_tmp\n",
    "    longitudes_tmp = tmp['lng'].tolist()\n",
    "    maximadist = 0\n",
    "    tmp_i = 0\n",
    "    tmp_j = 0\n",
    "    for i in range(len(latitudes_tmp)):\n",
    "        for j in range(i):\n",
    "            actual = distance(latitudes_tmp[i],longitudes_tmp[i],latitudes_tmp[j],longitudes_tmp[j])\n",
    "            if maximadist < actual:\n",
    "                maximadist = actual\n",
    "                tmp_i = i\n",
    "                tmp_j = j\n",
    "                \n",
    "    maximas_distancias_por_ciudad.append(maximadist)\n",
    "    print(tmp_i,tmp_j)\n",
    "    print(latitudes_tmp[tmp_i],longitudes_tmp[tmp_i],latitudes_tmp[tmp_j],longitudes_tmp[tmp_j])\n",
    "\n",
    "print(maximas_distancias_por_ciudad)\n",
    "maximas_distancias_por_ciudad.sort()\n",
    "print(maximas_distancias_por_ciudad)\n",
    "    "
   ]
  },
  {
   "cell_type": "code",
   "execution_count": 5,
   "metadata": {},
   "outputs": [],
   "source": [
    "df = df[df['ciudad']=='Mérida'].dropna()"
   ]
  },
  {
   "cell_type": "code",
   "execution_count": 6,
   "metadata": {},
   "outputs": [],
   "source": [
    "x = df['metroscubiertos'].values"
   ]
  },
  {
   "cell_type": "code",
   "execution_count": 7,
   "metadata": {},
   "outputs": [],
   "source": [
    "y = df['precio'].values"
   ]
  },
  {
   "cell_type": "code",
   "execution_count": 8,
   "metadata": {},
   "outputs": [],
   "source": [
    "x = x.reshape(len(x),1)\n",
    "y = y.reshape(len(y),1)"
   ]
  },
  {
   "cell_type": "code",
   "execution_count": 9,
   "metadata": {},
   "outputs": [
    {
     "data": {
      "text/plain": [
       "(518, 1)"
      ]
     },
     "execution_count": 9,
     "metadata": {},
     "output_type": "execute_result"
    }
   ],
   "source": [
    "x.shape"
   ]
  },
  {
   "cell_type": "code",
   "execution_count": 10,
   "metadata": {},
   "outputs": [],
   "source": [
    "from sklearn.linear_model import LinearRegression\n",
    "\n",
    "\"\"\"\n",
    "Reemplazar por nuestra implementación \n",
    "\"\"\"\n",
    "\n",
    "linear_regressor = LinearRegression()\n",
    "linear_regressor = metnum.LinearRegression()\n",
    "\n"
   ]
  },
  {
   "cell_type": "code",
   "execution_count": 11,
   "metadata": {},
   "outputs": [],
   "source": [
    "linear_regressor.fit(x,y)"
   ]
  },
  {
   "cell_type": "code",
   "execution_count": 12,
   "metadata": {},
   "outputs": [],
   "source": [
    "df['prediction'] = linear_regressor.predict(x)"
   ]
  },
  {
   "cell_type": "code",
   "execution_count": 13,
   "metadata": {},
   "outputs": [
    {
     "name": "stdout",
     "output_type": "stream",
     "text": [
      "[[8507.59724848]]\n"
     ]
    },
    {
     "data": {
      "image/png": "[encoded data removed]",
      "text/plain": [
       "<Figure size 432x288 with 1 Axes>"
      ]
     },
     "metadata": {
      "needs_background": "light"
     },
     "output_type": "display_data"
    }
   ],
   "source": [
    "sns.scatterplot(data=df, x='metroscubiertos', y='precio')\n",
    "sns.lineplot(data=df, x='metroscubiertos', y='prediction', color='red')\n",
    "mostra = linear_regressor.get_X()\n",
    "print(mostra)"
   ]
  },
  {
   "cell_type": "code",
   "execution_count": 14,
   "metadata": {},
   "outputs": [
    {
     "name": "stdout",
     "output_type": "stream",
     "text": [
      "263       1.080465e+06\n",
      "967       1.165541e+06\n",
      "2002      1.471814e+06\n",
      "2193      9.868813e+05\n",
      "3656      1.871671e+06\n",
      "              ...     \n",
      "238252    1.157033e+06\n",
      "238595    1.403754e+06\n",
      "238761    1.693012e+06\n",
      "239568    9.528509e+05\n",
      "239785    1.684504e+06\n",
      "Name: prediction, Length: 518, dtype: float64\n"
     ]
    }
   ],
   "source": [
    "print(df['prediction'])"
   ]
  },
  {
   "cell_type": "code",
   "execution_count": 19,
   "metadata": {},
   "outputs": [
    {
     "name": "stdout",
     "output_type": "stream",
     "text": [
      "263       1.023693e+06\n",
      "967       1.114664e+06\n",
      "2002      1.442161e+06\n",
      "2193      9.236241e+05\n",
      "3656      1.869727e+06\n",
      "              ...     \n",
      "238252    1.105567e+06\n",
      "238595    1.369384e+06\n",
      "238761    1.678687e+06\n",
      "239568    8.872355e+05\n",
      "239785    1.669590e+06\n",
      "Name: prediction, Length: 518, dtype: float64\n"
     ]
    }
   ],
   "source": [
    "print(df['prediction'])"
   ]
  },
  {
   "cell_type": "code",
   "execution_count": null,
   "metadata": {},
   "outputs": [],
   "source": []
  }
 ],
 "metadata": {
  "interpreter": {
   "hash": "31f2aee4e71d21fbe5cf8b01ff0e069b9275f58929596ceb00d14d90e3e16cd6"
  },
  "kernelspec": {
   "display_name": "Python 3",
   "language": "python",
   "name": "python3"
  },
  "language_info": {
   "codemirror_mode": {
    "name": "ipython",
    "version": 3
   },
   "file_extension": ".py",
   "mimetype": "text/x-python",
   "name": "python",
   "nbconvert_exporter": "python",
   "pygments_lexer": "ipython3",
   "version": "3.8.5"
  }
 },
 "nbformat": 4,
 "nbformat_minor": 4
}
